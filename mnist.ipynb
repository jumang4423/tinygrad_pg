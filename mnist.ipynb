{
 "cells": [
  {
   "cell_type": "code",
   "execution_count": 23,
   "metadata": {},
   "outputs": [],
   "source": [
    "import numpy as np\n",
    "from tinygrad.helpers import Timing\n",
    "from tinygrad.tensor import Tensor\n",
    "from tinygrad.dtype import dtypes\n",
    "from tinygrad.nn.optim import SGD"
   ]
  },
  {
   "cell_type": "code",
   "execution_count": 21,
   "metadata": {},
   "outputs": [],
   "source": [
    "class Linear:\n",
    "  def __init__(self, in_features, out_features, bias=True, initialization: str='kaiming_uniform'):\n",
    "    self.weight = getattr(Tensor, initialization)(out_features, in_features)\n",
    "    self.bias = Tensor.zeros(out_features) if bias else None\n",
    "\n",
    "  def __call__(self, x):\n",
    "    return x.linear(self.weight.transpose(), self.bias)"
   ]
  },
  {
   "cell_type": "code",
   "execution_count": 22,
   "metadata": {},
   "outputs": [],
   "source": [
    "class TinyNet:\n",
    "    def __init__(self):\n",
    "        self.l1 = Linear(784, 128, bias=False)\n",
    "        self.l2 = Linear(128, 10, bias=False)\n",
    "\n",
    "    def __call__(self, x):\n",
    "        x = self.l1(x)\n",
    "        x = x.leakyrelu()\n",
    "        x = self.l2(x)\n",
    "        return x\n",
    "\n",
    "    def sparse_categorical_crossentropy(self, Y, ignore_index=-1) -> Tensor:\n",
    "        loss_mask = Y != ignore_index\n",
    "        y_counter = Tensor.arange(self.shape[-1], dtype=dtypes.int32, requires_grad=False, device=self.device).unsqueeze(0).expand(Y.numel(), self.shape[-1])\n",
    "        y = ((y_counter == Y.flatten().reshape(-1, 1)).where(-1.0, 0) * loss_mask.reshape(-1, 1)).reshape(*Y.shape, self.shape[-1])\n",
    "        return self.log_softmax().mul(y).sum() / loss_mask.sum()\n",
    "\n",
    "net = TinyNet()"
   ]
  },
  {
   "cell_type": "code",
   "execution_count": 35,
   "metadata": {},
   "outputs": [],
   "source": [
    "# giving each parameter to the optimizer explicitly\n",
    "opt = SGD([net.l1.weight, net.l2.weight], lr=3e-4)"
   ]
  },
  {
   "cell_type": "code",
   "execution_count": 42,
   "metadata": {},
   "outputs": [
    {
     "ename": "ModuleNotFoundError",
     "evalue": "No module named 'tinygrad.extra'",
     "output_type": "error",
     "traceback": [
      "\u001b[0;31m---------------------------------------------------------------------------\u001b[0m",
      "\u001b[0;31mModuleNotFoundError\u001b[0m                       Traceback (most recent call last)",
      "Cell \u001b[0;32mIn[42], line 1\u001b[0m\n\u001b[0;32m----> 1\u001b[0m \u001b[38;5;28;01mfrom\u001b[39;00m \u001b[38;5;21;01mtinygrad\u001b[39;00m\u001b[38;5;21;01m.\u001b[39;00m\u001b[38;5;21;01mextra\u001b[39;00m \u001b[38;5;28;01mimport\u001b[39;00m fetch_mnist\n\u001b[1;32m      3\u001b[0m X_train, Y_train, X_test, Y_test \u001b[38;5;241m=\u001b[39m fetch_mnist()\n\u001b[1;32m      5\u001b[0m \u001b[38;5;28;01mwith\u001b[39;00m Tensor\u001b[38;5;241m.\u001b[39mtrain():\n",
      "\u001b[0;31mModuleNotFoundError\u001b[0m: No module named 'tinygrad.extra'"
     ]
    }
   ],
   "source": [
    "\n",
    "from tinygrad.extra import fetch_mnist\n",
    "\n",
    "X_train, Y_train, X_test, Y_test = fetch_mnist()\n",
    "\n",
    "with Tensor.train():\n",
    "  for step in range(1000):\n",
    "    # random sample a batch\n",
    "    samp = np.random.randint(0, X_train.shape[0], size=(64))\n",
    "    batch = Tensor(X_train[samp], requires_grad=False)\n",
    "    # get the corresponding labels\n",
    "    labels = Tensor(Y_train[samp])\n",
    "\n",
    "    # forward pass\n",
    "    out = net(batch)\n",
    "\n",
    "    # compute loss\n",
    "    loss = sparse_categorical_crossentropy(out, labels)\n",
    "\n",
    "    # zero gradients\n",
    "    opt.zero_grad()\n",
    "\n",
    "    # backward pass\n",
    "    loss.backward()\n",
    "\n",
    "    # update parameters\n",
    "    opt.step()\n",
    "\n",
    "    # calculate accuracy\n",
    "    pred = out.argmax(axis=-1)\n",
    "    acc = (pred == labels).mean()\n",
    "\n",
    "    if step % 100 == 0:\n",
    "      print(f\"Step {step+1} | Loss: {loss.numpy()} | Accuracy: {acc.numpy()}\")"
   ]
  },
  {
   "cell_type": "code",
   "execution_count": null,
   "metadata": {},
   "outputs": [],
   "source": [
    "with Timing(\"Time: \"):\n",
    "  avg_acc = 0\n",
    "  for step in range(1000):\n",
    "    # random sample a batch\n",
    "    samp = np.random.randint(0, X_test.shape[0], size=(64))\n",
    "    batch = Tensor(X_test[samp], requires_grad=False)\n",
    "    # get the corresponding labels\n",
    "    labels = Y_test[samp]\n",
    "\n",
    "    # forward pass\n",
    "    out = net(batch)\n",
    "\n",
    "    # calculate accuracy\n",
    "    pred = out.argmax(axis=-1).numpy()\n",
    "    avg_acc += (pred == labels).mean()\n",
    "  print(f\"Test Accuracy: {avg_acc / 1000}\")"
   ]
  }
 ],
 "metadata": {
  "kernelspec": {
   "display_name": "Python 3",
   "language": "python",
   "name": "python3"
  },
  "language_info": {
   "codemirror_mode": {
    "name": "ipython",
    "version": 3
   },
   "file_extension": ".py",
   "mimetype": "text/x-python",
   "name": "python",
   "nbconvert_exporter": "python",
   "pygments_lexer": "ipython3",
   "version": "3.12.2"
  }
 },
 "nbformat": 4,
 "nbformat_minor": 2
}
